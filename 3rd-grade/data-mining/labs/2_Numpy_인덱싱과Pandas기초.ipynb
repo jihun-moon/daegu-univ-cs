{
 "cells": [
  {
   "cell_type": "code",
   "execution_count": null,
   "metadata": {
    "colab": {
     "base_uri": "https://localhost:8080/"
    },
    "executionInfo": {
     "elapsed": 175,
     "status": "ok",
     "timestamp": 1758602268697,
     "user": {
      "displayName": "와플냠냠",
      "userId": "01282086576836266104"
     },
     "user_tz": -540
    },
    "id": "9W-y0HG43Au5",
    "outputId": "217e8d90-a316-48e0-a6eb-4b26e20e3e4b"
   },
   "outputs": [
    {
     "data": {
      "text/plain": [
       "array([[ 5, 10, 15],\n",
       "       [20, 25, 30],\n",
       "       [35, 40, 45]])"
      ]
     },
     "execution_count": 1,
     "metadata": {},
     "output_type": "execute_result"
    }
   ],
   "source": [
    "import numpy as np\n",
    "\n",
    "matrix = np.array(([5,10,15],[20,25,30],[35,40,45]))\n",
    "matrix"
   ]
  },
  {
   "cell_type": "code",
   "execution_count": null,
   "metadata": {
    "colab": {
     "base_uri": "https://localhost:8080/"
    },
    "executionInfo": {
     "elapsed": 12,
     "status": "ok",
     "timestamp": 1758602307088,
     "user": {
      "displayName": "와플냠냠",
      "userId": "01282086576836266104"
     },
     "user_tz": -540
    },
    "id": "EW5bVngO3XPa",
    "outputId": "772c2dcc-f17e-4c7b-a67b-62a36a45e0c4"
   },
   "outputs": [
    {
     "data": {
      "text/plain": [
       "array([ 5, 10, 15])"
      ]
     },
     "execution_count": 2,
     "metadata": {},
     "output_type": "execute_result"
    }
   ],
   "source": [
    "matrix[0]"
   ]
  },
  {
   "cell_type": "code",
   "execution_count": null,
   "metadata": {
    "colab": {
     "base_uri": "https://localhost:8080/"
    },
    "executionInfo": {
     "elapsed": 8,
     "status": "ok",
     "timestamp": 1758602335861,
     "user": {
      "displayName": "와플냠냠",
      "userId": "01282086576836266104"
     },
     "user_tz": -540
    },
    "id": "RIGyfSA33cRh",
    "outputId": "441c6439-8614-4ba1-e7d8-9ed354c0d643"
   },
   "outputs": [
    {
     "data": {
      "text/plain": [
       "np.int64(40)"
      ]
     },
     "execution_count": 4,
     "metadata": {},
     "output_type": "execute_result"
    }
   ],
   "source": [
    "matrix[2][1]"
   ]
  },
  {
   "cell_type": "code",
   "execution_count": null,
   "metadata": {
    "colab": {
     "base_uri": "https://localhost:8080/"
    },
    "executionInfo": {
     "elapsed": 16,
     "status": "ok",
     "timestamp": 1758602498073,
     "user": {
      "displayName": "와플냠냠",
      "userId": "01282086576836266104"
     },
     "user_tz": -540
    },
    "id": "C_YHgGl43lh7",
    "outputId": "13fbd8bd-ca92-4be8-824d-8623efe42b73"
   },
   "outputs": [
    {
     "data": {
      "text/plain": [
       "np.int64(40)"
      ]
     },
     "execution_count": 11,
     "metadata": {},
     "output_type": "execute_result"
    }
   ],
   "source": [
    "matrix[2,1]"
   ]
  },
  {
   "cell_type": "code",
   "execution_count": null,
   "metadata": {
    "colab": {
     "base_uri": "https://localhost:8080/"
    },
    "executionInfo": {
     "elapsed": 11,
     "status": "ok",
     "timestamp": 1758602486980,
     "user": {
      "displayName": "와플냠냠",
      "userId": "01282086576836266104"
     },
     "user_tz": -540
    },
    "id": "IPB8yOJ_3pDJ",
    "outputId": "0fbc5442-71d3-4920-9e16-d7c99eaff62f"
   },
   "outputs": [
    {
     "data": {
      "text/plain": [
       "array([[ 5, 10, 15],\n",
       "       [20, 25, 30]])"
      ]
     },
     "execution_count": 10,
     "metadata": {},
     "output_type": "execute_result"
    }
   ],
   "source": [
    "matrix[0:2]"
   ]
  },
  {
   "cell_type": "code",
   "execution_count": null,
   "metadata": {
    "colab": {
     "base_uri": "https://localhost:8080/"
    },
    "executionInfo": {
     "elapsed": 49,
     "status": "ok",
     "timestamp": 1758602485612,
     "user": {
      "displayName": "와플냠냠",
      "userId": "01282086576836266104"
     },
     "user_tz": -540
    },
    "id": "9og1WUi-4ELC",
    "outputId": "ab2a4354-affe-4407-c013-352a12ed5c28"
   },
   "outputs": [
    {
     "data": {
      "text/plain": [
       "array([[ 5, 10, 15],\n",
       "       [20, 25, 30],\n",
       "       [35, 40, 45]])"
      ]
     },
     "execution_count": 9,
     "metadata": {},
     "output_type": "execute_result"
    }
   ],
   "source": [
    "matrix[0:]"
   ]
  },
  {
   "cell_type": "code",
   "execution_count": null,
   "metadata": {
    "colab": {
     "base_uri": "https://localhost:8080/"
    },
    "executionInfo": {
     "elapsed": 10,
     "status": "ok",
     "timestamp": 1758602511470,
     "user": {
      "displayName": "와플냠냠",
      "userId": "01282086576836266104"
     },
     "user_tz": -540
    },
    "id": "WjvvqWu84LPa",
    "outputId": "7a34e2ea-ff67-4aea-883c-50d6531b94d3"
   },
   "outputs": [
    {
     "data": {
      "text/plain": [
       "array([[ 5, 10, 15],\n",
       "       [20, 25, 30],\n",
       "       [35, 40, 45]])"
      ]
     },
     "execution_count": 12,
     "metadata": {},
     "output_type": "execute_result"
    }
   ],
   "source": [
    "matrix[:]"
   ]
  },
  {
   "cell_type": "code",
   "execution_count": null,
   "metadata": {
    "colab": {
     "base_uri": "https://localhost:8080/"
    },
    "executionInfo": {
     "elapsed": 15,
     "status": "ok",
     "timestamp": 1758602585725,
     "user": {
      "displayName": "와플냠냠",
      "userId": "01282086576836266104"
     },
     "user_tz": -540
    },
    "id": "O9pwPjRh4XSD",
    "outputId": "b5417b07-0bd8-4e17-a1c2-3b3cf0bbb755"
   },
   "outputs": [
    {
     "data": {
      "text/plain": [
       "array([ 1,  3,  5,  7,  9, 11, 13, 15, 17, 19])"
      ]
     },
     "execution_count": 13,
     "metadata": {},
     "output_type": "execute_result"
    }
   ],
   "source": [
    "import numpy as np\n",
    "\n",
    "odd_array = np.arange(1,20,2)\n",
    "odd_array"
   ]
  },
  {
   "cell_type": "code",
   "execution_count": null,
   "metadata": {
    "colab": {
     "base_uri": "https://localhost:8080/"
    },
    "executionInfo": {
     "elapsed": 20,
     "status": "ok",
     "timestamp": 1758602623245,
     "user": {
      "displayName": "와플냠냠",
      "userId": "01282086576836266104"
     },
     "user_tz": -540
    },
    "id": "9HVZk74T4hc8",
    "outputId": "070d557d-f7ff-4fbc-90d7-975c35b51174"
   },
   "outputs": [
    {
     "data": {
      "text/plain": [
       "array([False, False, False, False, False, False,  True,  True,  True,\n",
       "        True])"
      ]
     },
     "execution_count": 14,
     "metadata": {},
     "output_type": "execute_result"
    }
   ],
   "source": [
    "bool_array = odd_array > 11\n",
    "bool_array"
   ]
  },
  {
   "cell_type": "code",
   "execution_count": null,
   "metadata": {
    "colab": {
     "base_uri": "https://localhost:8080/"
    },
    "executionInfo": {
     "elapsed": 18,
     "status": "ok",
     "timestamp": 1758602642968,
     "user": {
      "displayName": "와플냠냠",
      "userId": "01282086576836266104"
     },
     "user_tz": -540
    },
    "id": "t9szK5uk4pUk",
    "outputId": "e1ad0127-46eb-4dad-8214-ba0c5a603a09"
   },
   "outputs": [
    {
     "data": {
      "text/plain": [
       "array([13, 15, 17, 19])"
      ]
     },
     "execution_count": 15,
     "metadata": {},
     "output_type": "execute_result"
    }
   ],
   "source": [
    "odd_array[bool_array]"
   ]
  },
  {
   "cell_type": "code",
   "execution_count": null,
   "metadata": {
    "colab": {
     "base_uri": "https://localhost:8080/"
    },
    "executionInfo": {
     "elapsed": 10,
     "status": "ok",
     "timestamp": 1758602685850,
     "user": {
      "displayName": "와플냠냠",
      "userId": "01282086576836266104"
     },
     "user_tz": -540
    },
    "id": "3vDCXHRC4tns",
    "outputId": "14884f05-1ca6-4efd-f8e3-fbbd059eb328"
   },
   "outputs": [
    {
     "data": {
      "text/plain": [
       "array([13, 15, 17, 19])"
      ]
     },
     "execution_count": 18,
     "metadata": {},
     "output_type": "execute_result"
    }
   ],
   "source": [
    "odd_array[odd_array > 11]"
   ]
  },
  {
   "cell_type": "code",
   "execution_count": null,
   "metadata": {
    "colab": {
     "base_uri": "https://localhost:8080/"
    },
    "executionInfo": {
     "elapsed": 9,
     "status": "ok",
     "timestamp": 1758602775029,
     "user": {
      "displayName": "와플냠냠",
      "userId": "01282086576836266104"
     },
     "user_tz": -540
    },
    "id": "dq2jKvc04-h2",
    "outputId": "fcb3c902-46b5-4ae9-aaf5-e097fc79394a"
   },
   "outputs": [
    {
     "data": {
      "text/plain": [
       "array([[ 0,  1,  2],\n",
       "       [ 3,  4,  5],\n",
       "       [ 6,  7,  8],\n",
       "       [ 9, 10, 11]])"
      ]
     },
     "execution_count": 20,
     "metadata": {},
     "output_type": "execute_result"
    }
   ],
   "source": [
    "import numpy as np\n",
    "A = np.arange(12).reshape(4,3)\n",
    "A"
   ]
  },
  {
   "cell_type": "code",
   "execution_count": null,
   "metadata": {
    "colab": {
     "base_uri": "https://localhost:8080/"
    },
    "executionInfo": {
     "elapsed": 9,
     "status": "ok",
     "timestamp": 1758602838089,
     "user": {
      "displayName": "와플냠냠",
      "userId": "01282086576836266104"
     },
     "user_tz": -540
    },
    "id": "u5I3DHxf5RO1",
    "outputId": "ce22dae4-fe12-41a5-d9aa-e6b5616a0c27"
   },
   "outputs": [
    {
     "name": "stdout",
     "output_type": "stream",
     "text": [
      "A shape: (4, 3)\n",
      "A dim: 2\n",
      "A size: 12\n"
     ]
    }
   ],
   "source": [
    "print('A shape:', A.shape)\n",
    "print('A dim:', A.ndim)\n",
    "print('A size:', A.size)"
   ]
  },
  {
   "cell_type": "code",
   "execution_count": null,
   "metadata": {
    "colab": {
     "base_uri": "https://localhost:8080/"
    },
    "executionInfo": {
     "elapsed": 23,
     "status": "ok",
     "timestamp": 1758603042847,
     "user": {
      "displayName": "와플냠냠",
      "userId": "01282086576836266104"
     },
     "user_tz": -540
    },
    "id": "H-D1Y8bs5-Am",
    "outputId": "c4d3933d-cead-4380-cef1-35173fc4cf68"
   },
   "outputs": [
    {
     "data": {
      "text/plain": [
       "array([[12, 13, 14, 15],\n",
       "       [16, 17, 18, 19],\n",
       "       [20, 21, 22, 23]])"
      ]
     },
     "execution_count": 23,
     "metadata": {},
     "output_type": "execute_result"
    }
   ],
   "source": [
    "B = np.array([[12,13,14,15],[16,17,18,19],[20,21,22,23]])\n",
    "B"
   ]
  },
  {
   "cell_type": "code",
   "execution_count": null,
   "metadata": {
    "colab": {
     "base_uri": "https://localhost:8080/"
    },
    "executionInfo": {
     "elapsed": 15,
     "status": "ok",
     "timestamp": 1758603074921,
     "user": {
      "displayName": "와플냠냠",
      "userId": "01282086576836266104"
     },
     "user_tz": -540
    },
    "id": "bVKolNH66PEn",
    "outputId": "90b955e8-60cd-461b-e230-c15e09b012ba"
   },
   "outputs": [
    {
     "name": "stdout",
     "output_type": "stream",
     "text": [
      "[[1. 1. 1. 1. 1. 1.]\n",
      " [1. 1. 1. 1. 1. 1.]\n",
      " [1. 1. 1. 1. 1. 1.]]\n"
     ]
    }
   ],
   "source": [
    "print(np.ones((3,6)))"
   ]
  },
  {
   "cell_type": "code",
   "execution_count": null,
   "metadata": {
    "colab": {
     "base_uri": "https://localhost:8080/"
    },
    "executionInfo": {
     "elapsed": 14,
     "status": "ok",
     "timestamp": 1758603113742,
     "user": {
      "displayName": "와플냠냠",
      "userId": "01282086576836266104"
     },
     "user_tz": -540
    },
    "id": "sCSnFz-46amI",
    "outputId": "d7b4592e-bdad-4af1-d6b4-237783742125"
   },
   "outputs": [
    {
     "data": {
      "text/plain": [
       "array([[ 56,  59,  62,  65],\n",
       "       [200, 212, 224, 236],\n",
       "       [344, 365, 386, 407],\n",
       "       [488, 518, 548, 578]])"
      ]
     },
     "execution_count": 26,
     "metadata": {},
     "output_type": "execute_result"
    }
   ],
   "source": [
    "C = np.dot(A, B)\n",
    "C"
   ]
  },
  {
   "cell_type": "code",
   "execution_count": null,
   "metadata": {
    "colab": {
     "base_uri": "https://localhost:8080/"
    },
    "executionInfo": {
     "elapsed": 8,
     "status": "ok",
     "timestamp": 1758603144194,
     "user": {
      "displayName": "와플냠냠",
      "userId": "01282086576836266104"
     },
     "user_tz": -540
    },
    "id": "JjcyfUQ-6gvI",
    "outputId": "e4271e8a-17e6-4a9d-ac92-a5bbc07d2b9a"
   },
   "outputs": [
    {
     "data": {
      "text/plain": [
       "array([[ 56,  59,  62,  65],\n",
       "       [200, 212, 224, 236],\n",
       "       [344, 365, 386, 407],\n",
       "       [488, 518, 548, 578]])"
      ]
     },
     "execution_count": 27,
     "metadata": {},
     "output_type": "execute_result"
    }
   ],
   "source": [
    "D = A@B\n",
    "D"
   ]
  },
  {
   "cell_type": "code",
   "execution_count": null,
   "metadata": {
    "colab": {
     "base_uri": "https://localhost:8080/"
    },
    "executionInfo": {
     "elapsed": 10,
     "status": "ok",
     "timestamp": 1758603205743,
     "user": {
      "displayName": "와플냠냠",
      "userId": "01282086576836266104"
     },
     "user_tz": -540
    },
    "id": "LVVtUvd06vTP",
    "outputId": "3fe88a2d-123c-47bd-81c6-29a14fb1ab69"
   },
   "outputs": [
    {
     "name": "stdout",
     "output_type": "stream",
     "text": [
      "[ 0.  5. 10. 15. 20. 25. 30.]\n"
     ]
    }
   ],
   "source": [
    "import numpy as np\n",
    "\n",
    "print(np.linspace(0,30,7))"
   ]
  },
  {
   "cell_type": "code",
   "execution_count": null,
   "metadata": {
    "colab": {
     "base_uri": "https://localhost:8080/"
    },
    "executionInfo": {
     "elapsed": 16,
     "status": "ok",
     "timestamp": 1758603242662,
     "user": {
      "displayName": "와플냠냠",
      "userId": "01282086576836266104"
     },
     "user_tz": -540
    },
    "id": "1iObEsZK648x",
    "outputId": "4cdafa0c-bc39-46e6-a3cc-421396d312c6"
   },
   "outputs": [
    {
     "name": "stdout",
     "output_type": "stream",
     "text": [
      "[ 0  7 14 21 28]\n"
     ]
    }
   ],
   "source": [
    "print(np.arange(0,30,7))"
   ]
  },
  {
   "cell_type": "code",
   "execution_count": null,
   "metadata": {
    "colab": {
     "base_uri": "https://localhost:8080/"
    },
    "executionInfo": {
     "elapsed": 15,
     "status": "ok",
     "timestamp": 1758603578060,
     "user": {
      "displayName": "와플냠냠",
      "userId": "01282086576836266104"
     },
     "user_tz": -540
    },
    "id": "gvDsO_nQ7P7g",
    "outputId": "9f261d52-2628-47a8-f19c-d626dd620951"
   },
   "outputs": [
    {
     "name": "stdout",
     "output_type": "stream",
     "text": [
      "Matrix E: ]\n",
      " [[0.94131903 0.74592233 0.40370417]\n",
      " [0.14646354 0.72968913 0.90434932]]\n",
      "New Matrix E: ]\n",
      " [[9. 7. 4.]\n",
      " [1. 7. 9.]]\n",
      "Sum= 37.0\n",
      "Max= 9.0\n",
      "Mim= 1.0\n",
      "exp(E[1])= [2.71828183e+00 1.09663316e+03 8.10308393e+03]\n",
      "sqrt(E[1])= [1.         2.64575131 3.        ]\n"
     ]
    }
   ],
   "source": [
    "E = np.random.random((2,3))\n",
    "print('Matrix E: ]\\n', E)\n",
    "E = E * 10\n",
    "E = np.round(E)\n",
    "print('New Matrix E: ]\\n', E)\n",
    "print('Sum=', E.sum())\n",
    "print('Max=', E.max())\n",
    "print('Mim=', E.min())\n",
    "print('exp(E[1])=', np.exp(E[1]))\n",
    "print('sqrt(E[1])=', np.sqrt(E[1]))"
   ]
  },
  {
   "cell_type": "code",
   "execution_count": 3,
   "metadata": {
    "colab": {
     "base_uri": "https://localhost:8080/",
     "height": 304
    },
    "executionInfo": {
     "elapsed": 366,
     "status": "ok",
     "timestamp": 1758779343369,
     "user": {
      "displayName": "와플냠냠",
      "userId": "01282086576836266104"
     },
     "user_tz": -540
    },
    "id": "jj0Jg6qy-_Lj",
    "outputId": "686850d5-db9b-4f5c-d1e5-b3f82bedfe08"
   },
   "outputs": [
    {
     "data": {
      "text/html": [
       "<div>\n",
       "<style scoped>\n",
       "    .dataframe tbody tr th:only-of-type {\n",
       "        vertical-align: middle;\n",
       "    }\n",
       "\n",
       "    .dataframe tbody tr th {\n",
       "        vertical-align: top;\n",
       "    }\n",
       "\n",
       "    .dataframe thead th {\n",
       "        text-align: right;\n",
       "    }\n",
       "</style>\n",
       "<table border=\"1\" class=\"dataframe\">\n",
       "  <thead>\n",
       "    <tr style=\"text-align: right;\">\n",
       "      <th></th>\n",
       "      <th>0</th>\n",
       "    </tr>\n",
       "  </thead>\n",
       "  <tbody>\n",
       "    <tr>\n",
       "      <th>0</th>\n",
       "      <td>3</td>\n",
       "    </tr>\n",
       "    <tr>\n",
       "      <th>1</th>\n",
       "      <td>2</td>\n",
       "    </tr>\n",
       "    <tr>\n",
       "      <th>2</th>\n",
       "      <td>3</td>\n",
       "    </tr>\n",
       "    <tr>\n",
       "      <th>3</th>\n",
       "      <td>1</td>\n",
       "    </tr>\n",
       "    <tr>\n",
       "      <th>4</th>\n",
       "      <td>1</td>\n",
       "    </tr>\n",
       "    <tr>\n",
       "      <th>5</th>\n",
       "      <td>2</td>\n",
       "    </tr>\n",
       "    <tr>\n",
       "      <th>6</th>\n",
       "      <td>3</td>\n",
       "    </tr>\n",
       "  </tbody>\n",
       "</table>\n",
       "</div><br><label><b>dtype:</b> int64</label>"
      ],
      "text/plain": [
       "0    3\n",
       "1    2\n",
       "2    3\n",
       "3    1\n",
       "4    1\n",
       "5    2\n",
       "6    3\n",
       "dtype: int64"
      ]
     },
     "execution_count": 3,
     "metadata": {},
     "output_type": "execute_result"
    }
   ],
   "source": [
    "import pandas as pd\n",
    "# 메달 = 금 은 금 동 동 은 금\n",
    "medals = pd.Series([3,2,3,1,1,2,3])\n",
    "medals"
   ]
  },
  {
   "cell_type": "code",
   "execution_count": 4,
   "metadata": {
    "colab": {
     "base_uri": "https://localhost:8080/",
     "height": 443
    },
    "executionInfo": {
     "elapsed": 287,
     "status": "ok",
     "timestamp": 1758779344824,
     "user": {
      "displayName": "와플냠냠",
      "userId": "01282086576836266104"
     },
     "user_tz": -540
    },
    "id": "dDzLVARB_Z6L",
    "outputId": "a502fee3-a73f-44ef-b0bd-f8bfd9e8204b"
   },
   "outputs": [
    {
     "data": {
      "text/plain": [
       "<Axes: >"
      ]
     },
     "execution_count": 4,
     "metadata": {},
     "output_type": "execute_result"
    },
    {
     "data": {
      "image/png": "[encoded data removed]",
      "text/plain": [
       "<Figure size 640x480 with 1 Axes>"
      ]
     },
     "metadata": {},
     "output_type": "display_data"
    }
   ],
   "source": [
    "medals.plot(kind='bar')"
   ]
  },
  {
   "cell_type": "code",
   "execution_count": 5,
   "metadata": {
    "colab": {
     "base_uri": "https://localhost:8080/",
     "height": 424
    },
    "executionInfo": {
     "elapsed": 160,
     "status": "ok",
     "timestamp": 1758779345869,
     "user": {
      "displayName": "와플냠냠",
      "userId": "01282086576836266104"
     },
     "user_tz": -540
    },
    "id": "wIVeO4F5_rc7",
    "outputId": "80d04b88-044f-4116-a3f0-e7b30b47c9fe"
   },
   "outputs": [
    {
     "data": {
      "text/plain": [
       "<Axes: >"
      ]
     },
     "execution_count": 5,
     "metadata": {},
     "output_type": "execute_result"
    },
    {
     "data": {
      "image/png": "[encoded data removed]",
      "text/plain": [
       "<Figure size 640x480 with 1 Axes>"
      ]
     },
     "metadata": {},
     "output_type": "display_data"
    }
   ],
   "source": [
    "medals.plot(kind='pie')"
   ]
  }
 ],
 "metadata": {
  "colab": {
   "authorship_tag": "ABX9TyO1D9TOulsaahhcxlMt2Kic",
   "mount_file_id": "12xxaiB2U0ZH-YOhXeRO_dNgBoiCVIE-D",
   "provenance": []
  },
  "kernelspec": {
   "display_name": "Python 3",
   "name": "python3"
  },
  "language_info": {
   "name": "python"
  }
 },
 "nbformat": 4,
 "nbformat_minor": 0
}
