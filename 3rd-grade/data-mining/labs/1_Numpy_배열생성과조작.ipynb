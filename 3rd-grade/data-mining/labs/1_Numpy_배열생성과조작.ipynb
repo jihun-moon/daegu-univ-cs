{
 "cells": [
  {
   "cell_type": "code",
   "execution_count": null,
   "metadata": {
    "colab": {
     "base_uri": "https://localhost:8080/"
    },
    "executionInfo": {
     "elapsed": 9958,
     "status": "ok",
     "timestamp": 1757998567462,
     "user": {
      "displayName": "와플냠냠",
      "userId": "01282086576836266104"
     },
     "user_tz": -540
    },
    "id": "Yw3_gslB4Pym",
    "outputId": "054a36fa-cf15-4a63-bdd9-2f7a3dc7bba9"
   },
   "outputs": [
    {
     "name": "stdout",
     "output_type": "stream",
     "text": [
      "Requirement already satisfied: numpy in /usr/local/lib/python3.12/dist-packages (2.0.2)\n"
     ]
    }
   ],
   "source": [
    "!pip install numpy"
   ]
  },
  {
   "cell_type": "code",
   "execution_count": null,
   "metadata": {
    "colab": {
     "base_uri": "https://localhost:8080/"
    },
    "executionInfo": {
     "elapsed": 12,
     "status": "ok",
     "timestamp": 1757998588081,
     "user": {
      "displayName": "와플냠냠",
      "userId": "01282086576836266104"
     },
     "user_tz": -540
    },
    "id": "HhMLHu6v4TAn",
    "outputId": "1fb90073-06a2-435e-d0e0-dbb666ef5f03"
   },
   "outputs": [
    {
     "data": {
      "text/plain": [
       "array([45, 23, 56])"
      ]
     },
     "execution_count": 2,
     "metadata": {},
     "output_type": "execute_result"
    }
   ],
   "source": [
    "import numpy as np\n",
    "\n",
    "a = np.array([45, 23, 56])\n",
    "a"
   ]
  },
  {
   "cell_type": "code",
   "execution_count": null,
   "metadata": {
    "colab": {
     "base_uri": "https://localhost:8080/"
    },
    "executionInfo": {
     "elapsed": 16,
     "status": "ok",
     "timestamp": 1757998601205,
     "user": {
      "displayName": "와플냠냠",
      "userId": "01282086576836266104"
     },
     "user_tz": -540
    },
    "id": "scBOXvZt4bad",
    "outputId": "e0e70305-cee5-46fa-da1a-1c03aaa2b7d2"
   },
   "outputs": [
    {
     "data": {
      "text/plain": [
       "(3,)"
      ]
     },
     "execution_count": 3,
     "metadata": {},
     "output_type": "execute_result"
    }
   ],
   "source": [
    "a.shape # 차원 크기"
   ]
  },
  {
   "cell_type": "code",
   "execution_count": null,
   "metadata": {
    "colab": {
     "base_uri": "https://localhost:8080/"
    },
    "executionInfo": {
     "elapsed": 12,
     "status": "ok",
     "timestamp": 1757998613599,
     "user": {
      "displayName": "와플냠냠",
      "userId": "01282086576836266104"
     },
     "user_tz": -540
    },
    "id": "abA5z3DG4dwG",
    "outputId": "d045f616-59bf-4963-e139-ae8caf20bc3d"
   },
   "outputs": [
    {
     "data": {
      "text/plain": [
       "1"
      ]
     },
     "execution_count": 4,
     "metadata": {},
     "output_type": "execute_result"
    }
   ],
   "source": [
    "a.ndim # 차원"
   ]
  },
  {
   "cell_type": "code",
   "execution_count": null,
   "metadata": {
    "colab": {
     "base_uri": "https://localhost:8080/"
    },
    "executionInfo": {
     "elapsed": 44,
     "status": "ok",
     "timestamp": 1757998626840,
     "user": {
      "displayName": "와플냠냠",
      "userId": "01282086576836266104"
     },
     "user_tz": -540
    },
    "id": "Y44_bnc74djG",
    "outputId": "7d1c063d-16b4-41ae-c006-6cb6b0a61aef"
   },
   "outputs": [
    {
     "data": {
      "text/plain": [
       "dtype('int64')"
      ]
     },
     "execution_count": 5,
     "metadata": {},
     "output_type": "execute_result"
    }
   ],
   "source": [
    "a.dtype # 요소의 자료형"
   ]
  },
  {
   "cell_type": "code",
   "execution_count": null,
   "metadata": {
    "colab": {
     "base_uri": "https://localhost:8080/"
    },
    "executionInfo": {
     "elapsed": 14,
     "status": "ok",
     "timestamp": 1757998639201,
     "user": {
      "displayName": "와플냠냠",
      "userId": "01282086576836266104"
     },
     "user_tz": -540
    },
    "id": "hqc_eBaY4kue",
    "outputId": "d1cc7432-e37c-4319-d9dc-0828828ec78b"
   },
   "outputs": [
    {
     "data": {
      "text/plain": [
       "8"
      ]
     },
     "execution_count": 6,
     "metadata": {},
     "output_type": "execute_result"
    }
   ],
   "source": [
    "a.itemsize # 요소의 크기(바이트)"
   ]
  },
  {
   "cell_type": "code",
   "execution_count": null,
   "metadata": {
    "colab": {
     "base_uri": "https://localhost:8080/"
    },
    "executionInfo": {
     "elapsed": 15,
     "status": "ok",
     "timestamp": 1757998651191,
     "user": {
      "displayName": "와플냠냠",
      "userId": "01282086576836266104"
     },
     "user_tz": -540
    },
    "id": "I1jbsUzO4oKg",
    "outputId": "4743ab8b-519e-4984-ab65-87c84efc32b1"
   },
   "outputs": [
    {
     "data": {
      "text/plain": [
       "3"
      ]
     },
     "execution_count": 7,
     "metadata": {},
     "output_type": "execute_result"
    }
   ],
   "source": [
    "a.size # 요소의 수"
   ]
  },
  {
   "cell_type": "code",
   "execution_count": null,
   "metadata": {
    "id": "cQqwSkZ57HhE"
   },
   "outputs": [],
   "source": [
    "import numpy as np\n",
    "km = np.array([178, 197, 202, 210])"
   ]
  },
  {
   "cell_type": "code",
   "execution_count": null,
   "metadata": {
    "colab": {
     "base_uri": "https://localhost:8080/"
    },
    "executionInfo": {
     "elapsed": 18,
     "status": "ok",
     "timestamp": 1757999350817,
     "user": {
      "displayName": "와플냠냠",
      "userId": "01282086576836266104"
     },
     "user_tz": -540
    },
    "id": "i0NXhoLp7R1d",
    "outputId": "a9de2a7d-e525-40ec-ec37-6a51a5590bc6"
   },
   "outputs": [
    {
     "data": {
      "text/plain": [
       "array([278, 297, 302, 310])"
      ]
     },
     "execution_count": 9,
     "metadata": {},
     "output_type": "execute_result"
    }
   ],
   "source": [
    "km = km + 100\n",
    "km"
   ]
  },
  {
   "cell_type": "code",
   "execution_count": null,
   "metadata": {
    "colab": {
     "base_uri": "https://localhost:8080/"
    },
    "executionInfo": {
     "elapsed": 16,
     "status": "ok",
     "timestamp": 1757999462129,
     "user": {
      "displayName": "와플냠냠",
      "userId": "01282086576836266104"
     },
     "user_tz": -540
    },
    "id": "VgqpU2AY7WYN",
    "outputId": "76f54bda-fe26-418d-9f27-a7203d9e204e"
   },
   "outputs": [
    {
     "data": {
      "text/plain": [
       "array([0, 3, 6, 9])"
      ]
     },
     "execution_count": 13,
     "metadata": {},
     "output_type": "execute_result"
    }
   ],
   "source": [
    "import numpy as np\n",
    "np.arange(0,11,3)"
   ]
  },
  {
   "cell_type": "code",
   "execution_count": null,
   "metadata": {
    "colab": {
     "base_uri": "https://localhost:8080/"
    },
    "executionInfo": {
     "elapsed": 44,
     "status": "ok",
     "timestamp": 1757999494452,
     "user": {
      "displayName": "와플냠냠",
      "userId": "01282086576836266104"
     },
     "user_tz": -540
    },
    "id": "QQWuzsoS7xO8",
    "outputId": "a74abaaf-84ab-4829-aaec-4aaae0ed9d89"
   },
   "outputs": [
    {
     "data": {
      "text/plain": [
       "array([0., 3., 6., 9.])"
      ]
     },
     "execution_count": 14,
     "metadata": {},
     "output_type": "execute_result"
    }
   ],
   "source": [
    "np.arange(0,11,3, dtype=float)"
   ]
  },
  {
   "cell_type": "code",
   "execution_count": null,
   "metadata": {
    "colab": {
     "base_uri": "https://localhost:8080/"
    },
    "executionInfo": {
     "elapsed": 9,
     "status": "ok",
     "timestamp": 1757999700447,
     "user": {
      "displayName": "와플냠냠",
      "userId": "01282086576836266104"
     },
     "user_tz": -540
    },
    "id": "loZJ8x4k7421",
    "outputId": "b4fa3555-9c28-4362-911b-9979b55ef3df"
   },
   "outputs": [
    {
     "data": {
      "text/plain": [
       "array([ 0., 10.])"
      ]
     },
     "execution_count": 26,
     "metadata": {},
     "output_type": "execute_result"
    }
   ],
   "source": [
    "np.linspace(0, 10, 2)"
   ]
  },
  {
   "cell_type": "code",
   "execution_count": null,
   "metadata": {
    "colab": {
     "base_uri": "https://localhost:8080/"
    },
    "executionInfo": {
     "elapsed": 9,
     "status": "ok",
     "timestamp": 1757999543708,
     "user": {
      "displayName": "와플냠냠",
      "userId": "01282086576836266104"
     },
     "user_tz": -540
    },
    "id": "-0WrJ_gL8Bel",
    "outputId": "f655cd70-13d9-47bc-80ec-b3a95d71d81d"
   },
   "outputs": [
    {
     "data": {
      "text/plain": [
       "array([ 0. ,  2.5,  5. ,  7.5, 10. ])"
      ]
     },
     "execution_count": 17,
     "metadata": {},
     "output_type": "execute_result"
    }
   ],
   "source": [
    "np.linspace(0, 10, 5)"
   ]
  },
  {
   "cell_type": "code",
   "execution_count": null,
   "metadata": {
    "colab": {
     "base_uri": "https://localhost:8080/"
    },
    "executionInfo": {
     "elapsed": 7,
     "status": "ok",
     "timestamp": 1757999671920,
     "user": {
      "displayName": "와플냠냠",
      "userId": "01282086576836266104"
     },
     "user_tz": -540
    },
    "id": "3JDq4G2B8hA3",
    "outputId": "7858560a-fee8-439c-fd2a-8033dbc470e7"
   },
   "outputs": [
    {
     "data": {
      "text/plain": [
       "array([ 51.,  52.,  53.,  54.,  55.,  56.,  57.,  58.,  59.,  60.,  61.,\n",
       "        62.,  63.,  64.,  65.,  66.,  67.,  68.,  69.,  70.,  71.,  72.,\n",
       "        73.,  74.,  75.,  76.,  77.,  78.,  79.,  80.,  81.,  82.,  83.,\n",
       "        84.,  85.,  86.,  87.,  88.,  89.,  90.,  91.,  92.,  93.,  94.,\n",
       "        95.,  96.,  97.,  98.,  99., 100.])"
      ]
     },
     "execution_count": 22,
     "metadata": {},
     "output_type": "execute_result"
    }
   ],
   "source": [
    "np.linspace(51, 100)"
   ]
  },
  {
   "cell_type": "code",
   "execution_count": null,
   "metadata": {
    "colab": {
     "base_uri": "https://localhost:8080/"
    },
    "executionInfo": {
     "elapsed": 12,
     "status": "ok",
     "timestamp": 1757999714571,
     "user": {
      "displayName": "와플냠냠",
      "userId": "01282086576836266104"
     },
     "user_tz": -540
    },
    "id": "AMzcXgOt8EqO",
    "outputId": "375df08c-d3cd-4f7c-c1dc-0a55cd64cf4b"
   },
   "outputs": [
    {
     "data": {
      "text/plain": [
       "array([ 51., 100.])"
      ]
     },
     "execution_count": 29,
     "metadata": {},
     "output_type": "execute_result"
    }
   ],
   "source": [
    "np.linspace(51, 100, 2)"
   ]
  },
  {
   "cell_type": "code",
   "execution_count": null,
   "metadata": {
    "colab": {
     "base_uri": "https://localhost:8080/"
    },
    "executionInfo": {
     "elapsed": 19,
     "status": "ok",
     "timestamp": 1757999585114,
     "user": {
      "displayName": "와플냠냠",
      "userId": "01282086576836266104"
     },
     "user_tz": -540
    },
    "id": "ojK1IrzC8LgG",
    "outputId": "19bc6833-97a1-49ff-de4c-ef43167c8ea7"
   },
   "outputs": [
    {
     "data": {
      "text/plain": [
       "array([ 51.  ,  63.25,  75.5 ,  87.75, 100.  ])"
      ]
     },
     "execution_count": 21,
     "metadata": {},
     "output_type": "execute_result"
    }
   ],
   "source": [
    "np.linspace(51, 100, 5)"
   ]
  },
  {
   "cell_type": "code",
   "execution_count": null,
   "metadata": {
    "colab": {
     "base_uri": "https://localhost:8080/"
    },
    "executionInfo": {
     "elapsed": 21,
     "status": "ok",
     "timestamp": 1757999744114,
     "user": {
      "displayName": "와플냠냠",
      "userId": "01282086576836266104"
     },
     "user_tz": -540
    },
    "id": "6aMTtRx68woA",
    "outputId": "de805a4e-1dda-443c-b0a4-5503b5a13d05"
   },
   "outputs": [
    {
     "data": {
      "text/plain": [
       "array([0., 0., 0., 0., 0., 0., 0., 0., 0., 0.])"
      ]
     },
     "execution_count": 30,
     "metadata": {},
     "output_type": "execute_result"
    }
   ],
   "source": [
    "np.zeros(10)"
   ]
  },
  {
   "cell_type": "code",
   "execution_count": null,
   "metadata": {
    "colab": {
     "base_uri": "https://localhost:8080/"
    },
    "executionInfo": {
     "elapsed": 42,
     "status": "ok",
     "timestamp": 1757999785755,
     "user": {
      "displayName": "와플냠냠",
      "userId": "01282086576836266104"
     },
     "user_tz": -540
    },
    "id": "fCPfA8MV82QH",
    "outputId": "fddf6910-f552-4740-b8d2-892f913f7302"
   },
   "outputs": [
    {
     "data": {
      "text/plain": [
       "array([[0., 0., 0.],\n",
       "       [0., 0., 0.]])"
      ]
     },
     "execution_count": 31,
     "metadata": {},
     "output_type": "execute_result"
    }
   ],
   "source": [
    "np.zeros((2,3))"
   ]
  },
  {
   "cell_type": "code",
   "execution_count": null,
   "metadata": {
    "colab": {
     "base_uri": "https://localhost:8080/"
    },
    "executionInfo": {
     "elapsed": 19,
     "status": "ok",
     "timestamp": 1757999807949,
     "user": {
      "displayName": "와플냠냠",
      "userId": "01282086576836266104"
     },
     "user_tz": -540
    },
    "id": "ly6Ljeo-8_ze",
    "outputId": "ae7a1832-32a7-47ca-f449-9127c4030f2f"
   },
   "outputs": [
    {
     "data": {
      "text/plain": [
       "array([1., 1., 1.])"
      ]
     },
     "execution_count": 33,
     "metadata": {},
     "output_type": "execute_result"
    }
   ],
   "source": [
    "np.ones(3)"
   ]
  },
  {
   "cell_type": "code",
   "execution_count": null,
   "metadata": {
    "colab": {
     "base_uri": "https://localhost:8080/"
    },
    "executionInfo": {
     "elapsed": 16,
     "status": "ok",
     "timestamp": 1757999826343,
     "user": {
      "displayName": "와플냠냠",
      "userId": "01282086576836266104"
     },
     "user_tz": -540
    },
    "id": "8wATXKRb9EoQ",
    "outputId": "dc79272a-5d22-4b7b-8f65-faa5b044edb3"
   },
   "outputs": [
    {
     "data": {
      "text/plain": [
       "array([[1., 1., 1.],\n",
       "       [1., 1., 1.],\n",
       "       [1., 1., 1.]])"
      ]
     },
     "execution_count": 35,
     "metadata": {},
     "output_type": "execute_result"
    }
   ],
   "source": [
    "np.ones((3,3))"
   ]
  },
  {
   "cell_type": "code",
   "execution_count": null,
   "metadata": {
    "colab": {
     "base_uri": "https://localhost:8080/"
    },
    "executionInfo": {
     "elapsed": 13,
     "status": "ok",
     "timestamp": 1757999843673,
     "user": {
      "displayName": "와플냠냠",
      "userId": "01282086576836266104"
     },
     "user_tz": -540
    },
    "id": "vz6xTc1Y9Jcv",
    "outputId": "b7193023-46ef-49d5-8dd7-4cce79f378c6"
   },
   "outputs": [
    {
     "data": {
      "text/plain": [
       "array([[1., 0., 0., 0., 0.],\n",
       "       [0., 1., 0., 0., 0.],\n",
       "       [0., 0., 1., 0., 0.],\n",
       "       [0., 0., 0., 1., 0.],\n",
       "       [0., 0., 0., 0., 1.]])"
      ]
     },
     "execution_count": 37,
     "metadata": {},
     "output_type": "execute_result"
    }
   ],
   "source": [
    "np.eye(5)"
   ]
  },
  {
   "cell_type": "code",
   "execution_count": null,
   "metadata": {
    "colab": {
     "base_uri": "https://localhost:8080/"
    },
    "executionInfo": {
     "elapsed": 12,
     "status": "ok",
     "timestamp": 1758000019524,
     "user": {
      "displayName": "와플냠냠",
      "userId": "01282086576836266104"
     },
     "user_tz": -540
    },
    "id": "OwVZ6ajF91AA",
    "outputId": "5704463d-f6d7-42a3-e5fe-b8800ce675a7"
   },
   "outputs": [
    {
     "data": {
      "text/plain": [
       "array([0.45661364, 0.91625341])"
      ]
     },
     "execution_count": 41,
     "metadata": {},
     "output_type": "execute_result"
    }
   ],
   "source": [
    "np.random.rand(2)"
   ]
  },
  {
   "cell_type": "code",
   "execution_count": null,
   "metadata": {
    "colab": {
     "base_uri": "https://localhost:8080/"
    },
    "executionInfo": {
     "elapsed": 19,
     "status": "ok",
     "timestamp": 1758000042763,
     "user": {
      "displayName": "와플냠냠",
      "userId": "01282086576836266104"
     },
     "user_tz": -540
    },
    "id": "gZTYsPpx94A5",
    "outputId": "2f156988-1366-4d61-f060-dc6667b02f91"
   },
   "outputs": [
    {
     "data": {
      "text/plain": [
       "array([[0.88227938, 0.24866143, 0.26183902],\n",
       "       [0.54571242, 0.85573747, 0.91870814]])"
      ]
     },
     "execution_count": 43,
     "metadata": {},
     "output_type": "execute_result"
    }
   ],
   "source": [
    "np.random.rand(2,3)"
   ]
  },
  {
   "cell_type": "code",
   "execution_count": null,
   "metadata": {
    "colab": {
     "base_uri": "https://localhost:8080/"
    },
    "executionInfo": {
     "elapsed": 14,
     "status": "ok",
     "timestamp": 1758000060873,
     "user": {
      "displayName": "와플냠냠",
      "userId": "01282086576836266104"
     },
     "user_tz": -540
    },
    "id": "7jFNpAov99-6",
    "outputId": "384d4656-9fb9-4c9f-e5ca-793f8aeff868"
   },
   "outputs": [
    {
     "data": {
      "text/plain": [
       "array([-0.65848751,  0.88971706,  1.34319744,  0.72247247,  0.71098458,\n",
       "       -1.52016567, -1.7651899 ,  0.20001488,  1.02835205, -0.77885681,\n",
       "        0.61203906,  1.03532436,  0.21914757, -0.56702966,  0.2852159 ,\n",
       "        0.24145578, -0.60621723,  1.38414106,  0.62284391,  0.38346682])"
      ]
     },
     "execution_count": 44,
     "metadata": {},
     "output_type": "execute_result"
    }
   ],
   "source": [
    "np.random.randn(20)"
   ]
  },
  {
   "cell_type": "code",
   "execution_count": null,
   "metadata": {
    "colab": {
     "base_uri": "https://localhost:8080/"
    },
    "executionInfo": {
     "elapsed": 16,
     "status": "ok",
     "timestamp": 1758000087158,
     "user": {
      "displayName": "와플냠냠",
      "userId": "01282086576836266104"
     },
     "user_tz": -540
    },
    "id": "tSPvebwK-Djw",
    "outputId": "0d134789-d16c-40f3-f8c9-30e15719b04e"
   },
   "outputs": [
    {
     "data": {
      "text/plain": [
       "array([[-1.68191461,  0.88858653,  0.15675359],\n",
       "       [ 1.26755946,  1.13189913, -1.56366023],\n",
       "       [ 1.19203228,  0.66276406,  0.97759641]])"
      ]
     },
     "execution_count": 48,
     "metadata": {},
     "output_type": "execute_result"
    }
   ],
   "source": [
    "np.random.randn(3,3)"
   ]
  },
  {
   "cell_type": "code",
   "execution_count": null,
   "metadata": {
    "colab": {
     "base_uri": "https://localhost:8080/"
    },
    "executionInfo": {
     "elapsed": 17,
     "status": "ok",
     "timestamp": 1758000117556,
     "user": {
      "displayName": "와플냠냠",
      "userId": "01282086576836266104"
     },
     "user_tz": -540
    },
    "id": "R2fgh9Qu-IuQ",
    "outputId": "c70562e6-a1d2-4b23-e2ba-cf856370644e"
   },
   "outputs": [
    {
     "data": {
      "text/plain": [
       "3"
      ]
     },
     "execution_count": 59,
     "metadata": {},
     "output_type": "execute_result"
    }
   ],
   "source": [
    "np.random.randint(1,7) # 1 ~ 6"
   ]
  },
  {
   "cell_type": "code",
   "execution_count": null,
   "metadata": {
    "colab": {
     "base_uri": "https://localhost:8080/"
    },
    "executionInfo": {
     "elapsed": 18,
     "status": "ok",
     "timestamp": 1758000152604,
     "user": {
      "displayName": "와플냠냠",
      "userId": "01282086576836266104"
     },
     "user_tz": -540
    },
    "id": "_3NM_-zA-S_h",
    "outputId": "b019ab8b-f7f4-4538-b7c0-75fdb6aca7a9"
   },
   "outputs": [
    {
     "data": {
      "text/plain": [
       "array([21, 25, 28,  8, 40, 58])"
      ]
     },
     "execution_count": 63,
     "metadata": {},
     "output_type": "execute_result"
    }
   ],
   "source": [
    "np.random.randint(1,100, 6)"
   ]
  },
  {
   "cell_type": "code",
   "execution_count": null,
   "metadata": {
    "colab": {
     "base_uri": "https://localhost:8080/"
    },
    "executionInfo": {
     "elapsed": 22,
     "status": "ok",
     "timestamp": 1758000203935,
     "user": {
      "displayName": "와플냠냠",
      "userId": "01282086576836266104"
     },
     "user_tz": -540
    },
    "id": "MOCAQlM9-eXp",
    "outputId": "3c004c5e-4980-48f6-c8d0-b1742645d5f2"
   },
   "outputs": [
    {
     "data": {
      "text/plain": [
       "array([[38, 81, 27],\n",
       "       [25, 20, 56]])"
      ]
     },
     "execution_count": 64,
     "metadata": {},
     "output_type": "execute_result"
    }
   ],
   "source": [
    "np.random.randint(1,100, (2,3))"
   ]
  },
  {
   "cell_type": "code",
   "execution_count": null,
   "metadata": {
    "colab": {
     "base_uri": "https://localhost:8080/"
    },
    "executionInfo": {
     "elapsed": 46,
     "status": "ok",
     "timestamp": 1758000305827,
     "user": {
      "displayName": "와플냠냠",
      "userId": "01282086576836266104"
     },
     "user_tz": -540
    },
    "id": "Gi8xUCpp-eOy",
    "outputId": "553c515c-bd27-4ba2-9ba9-6b972d38d87c"
   },
   "outputs": [
    {
     "data": {
      "text/plain": [
       "array([[[43, 92, 34],\n",
       "        [94,  4, 44],\n",
       "        [41, 29, 38]],\n",
       "\n",
       "       [[63, 95, 30],\n",
       "        [20, 20, 72],\n",
       "        [41, 72, 37]]])"
      ]
     },
     "execution_count": 70,
     "metadata": {},
     "output_type": "execute_result"
    }
   ],
   "source": [
    "np.random.randint(1,100, (2,3,3)) # 대괄호 3개 3차원   # 차원 수 , 3행, 3열"
   ]
  },
  {
   "cell_type": "code",
   "execution_count": null,
   "metadata": {
    "colab": {
     "base_uri": "https://localhost:8080/"
    },
    "executionInfo": {
     "elapsed": 14,
     "status": "ok",
     "timestamp": 1758000557361,
     "user": {
      "displayName": "와플냠냠",
      "userId": "01282086576836266104"
     },
     "user_tz": -540
    },
    "id": "pWa3xmwp_rRe",
    "outputId": "1d0d945a-02ba-488c-8926-99142d6f9919"
   },
   "outputs": [
    {
     "data": {
      "text/plain": [
       "array([-2.22663233, -0.40869896,  1.2910067 , -0.58579477,  0.78280524,\n",
       "       -1.16115698,  0.40950159,  0.11857048, -1.74136825,  1.3510359 ])"
      ]
     },
     "execution_count": 72,
     "metadata": {},
     "output_type": "execute_result"
    }
   ],
   "source": [
    "import numpy as np\n",
    "\n",
    "values = np.random.randn(10)\n",
    "values"
   ]
  },
  {
   "cell_type": "code",
   "execution_count": null,
   "metadata": {
    "colab": {
     "base_uri": "https://localhost:8080/"
    },
    "executionInfo": {
     "elapsed": 18,
     "status": "ok",
     "timestamp": 1758000611680,
     "user": {
      "displayName": "와플냠냠",
      "userId": "01282086576836266104"
     },
     "user_tz": -540
    },
    "id": "yaV795To_7j-",
    "outputId": "93c0455f-8c60-4e34-92d1-9e96b8715b17"
   },
   "outputs": [
    {
     "data": {
      "text/plain": [
       "array([[-2.22663233, -0.40869896],\n",
       "       [ 1.2910067 , -0.58579477],\n",
       "       [ 0.78280524, -1.16115698],\n",
       "       [ 0.40950159,  0.11857048],\n",
       "       [-1.74136825,  1.3510359 ]])"
      ]
     },
     "execution_count": 75,
     "metadata": {},
     "output_type": "execute_result"
    }
   ],
   "source": [
    "np.reshape(values, (5,2))"
   ]
  },
  {
   "cell_type": "code",
   "execution_count": null,
   "metadata": {
    "colab": {
     "base_uri": "https://localhost:8080/"
    },
    "executionInfo": {
     "elapsed": 11,
     "status": "ok",
     "timestamp": 1758000654452,
     "user": {
      "displayName": "와플냠냠",
      "userId": "01282086576836266104"
     },
     "user_tz": -540
    },
    "id": "z-JQ1uHcAIv_",
    "outputId": "d7402975-8fe6-47b8-8739-58d787bd1951"
   },
   "outputs": [
    {
     "name": "stdout",
     "output_type": "stream",
     "text": [
      "1.3510359024058398\n",
      "-2.226632327575812\n"
     ]
    }
   ],
   "source": [
    "A = values.max(); B = values.min()\n",
    "print(A)\n",
    "print(B)"
   ]
  },
  {
   "cell_type": "code",
   "execution_count": null,
   "metadata": {
    "colab": {
     "base_uri": "https://localhost:8080/"
    },
    "executionInfo": {
     "elapsed": 6,
     "status": "ok",
     "timestamp": 1758000721401,
     "user": {
      "displayName": "와플냠냠",
      "userId": "01282086576836266104"
     },
     "user_tz": -540
    },
    "id": "BnEm43MgAVC-",
    "outputId": "15ce0b58-64c6-4cbe-c7cf-66b7f59408e5"
   },
   "outputs": [
    {
     "name": "stdout",
     "output_type": "stream",
     "text": [
      "10\n",
      "1\n"
     ]
    }
   ],
   "source": [
    "C = values.argmax()+1; D = values.argmin()+1\n",
    "print(C)\n",
    "print(D)"
   ]
  },
  {
   "cell_type": "code",
   "execution_count": null,
   "metadata": {
    "colab": {
     "base_uri": "https://localhost:8080/"
    },
    "executionInfo": {
     "elapsed": 17,
     "status": "ok",
     "timestamp": 1758000815786,
     "user": {
      "displayName": "와플냠냠",
      "userId": "01282086576836266104"
     },
     "user_tz": -540
    },
    "id": "mD9F_35kAkcF",
    "outputId": "7e9f1e9c-0146-4214-f0c0-699450bc2a27"
   },
   "outputs": [
    {
     "name": "stdout",
     "output_type": "stream",
     "text": [
      "Max : 1.3510359024058398\n",
      "min: -2.226632327575812\n",
      "Item 10 is the maximun value, while item 1 is the minimum value.\n"
     ]
    }
   ],
   "source": [
    "print('Max : {}\\nmin: {}\\nItem {} is the maximun value, while item {} is the minimum value.'.format (A,B,C,D))"
   ]
  }
 ],
 "metadata": {
  "colab": {
   "authorship_tag": "ABX9TyO1D9TOulsaahhcxlMt2Kic",
   "mount_file_id": "12xxaiB2U0ZH-YOhXeRO_dNgBoiCVIE-D",
   "provenance": []
  },
  "kernelspec": {
   "display_name": "Python 3",
   "name": "python3"
  },
  "language_info": {
   "name": "python"
  }
 },
 "nbformat": 4,
 "nbformat_minor": 0
}
